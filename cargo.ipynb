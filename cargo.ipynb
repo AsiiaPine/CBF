{
 "cells": [
  {
   "cell_type": "markdown",
   "metadata": {},
   "source": [
    "# Problem formulation\n",
    "\n",
    "![cargo](figs/cargo.png)\n",
    "# State\n",
    "$x = \\begin{bmatrix} p & v & z \\end{bmatrix}^T \\in \\R^3$\n",
    "# Control input \n",
    "$u \\in \\R^1$\n",
    "# Dynamics\n",
    "$\\dot x  = \\underbrace{\\begin{bmatrix} v\\\\ -\\frac{F_r(v)}{m} \\\\ v_0 - v\\end{bmatrix}}_{f(x)} + \\underbrace{\\begin{bmatrix} 0\\\\ \\frac{1}{m} \\\\ 0\\end{bmatrix} u}_{g(x)}$\n",
    "# Input constraints:\n",
    "$$u_{min}<u<u_{max}$$\n",
    "$$v_{min}<v<v_{max}$$\n",
    "\n",
    "# Stability objective:\n",
    "$$v \\rightarrow v_d$$\n",
    "\n",
    "# Safety objective:\n",
    "$z \\geq T_h v$ ($T_h$ - lookahead time)\n"
   ]
  },
  {
   "cell_type": "markdown",
   "metadata": {},
   "source": [
    "\n",
    "# System constraints \n"
   ]
  },
  {
   "cell_type": "markdown",
   "metadata": {},
   "source": [
    "The problem can be solved via CLF and CBF, such that CLF will tend the system to equilibrium $v \\rightarrow v_d$ and CBF to $z \\geq T_h v$.\n",
    "\n",
    "# Design of CLF\n",
    "1. The Lyapunov function $V(s) = 0$ when $s=s_d$ and $V(s) > 0 \\forall s \\in \\R^n \\ {s_d}$.\n",
    "2. $\\Omega_c := \\{ s \\in \\R^n : V(x) \\leq c\\}$, a sublevel set is bounded (sublevel since QP problem find an elliptical set.)\n",
    "3. $\\dot V(x, u) < -\\gamma V(x)$\n",
    "   \n",
    "To reach the condition, \n",
    "Then $V(x) = (v - v_d)^2 $\n",
    "\n",
    "$\\nabla V(x) = \\begin{bmatrix} 0 \\\\ 2(v-v_d) \\\\ 0 \\end{bmatrix}$\n",
    "\n",
    "$L_f V(x) = -\\frac{2 F_r(v)}{m}(v - v_d)$, $L_g V(x) = \\frac{2}{m}(v-v_d)$\n",
    "\n",
    "$\\dot V(x) + \\lambda V(x) = L_f V(x) + L_g V(x) u + \\lambda V(x) = (v - v_d)\\{ \\frac{2}{m}(u - F_r) + \\lambda (v - v_d)\\}\\leq0$"
   ]
  },
  {
   "cell_type": "markdown",
   "metadata": {},
   "source": [
    "The value of rolling resistance $F_r$ is very small.\n",
    "\n",
    "- If $v < v_d$ and $u >> F_r$, the term $\\{ \\frac{2}{m}(u - F_r) + \\lambda (v - v_d)\\}$ [1] will be positive and the constraints will be satisfied.\n",
    "- If $v > v_d$, the term [1] will be negative if the cargo will decelerate enough $u < F_r$. \n",
    "\n",
    "Therefore the function V in a valid CLF (if $\\lambda$ is small enough)."
   ]
  },
  {
   "cell_type": "markdown",
   "metadata": {},
   "source": [
    "# Design CBF\n",
    "Safety objective: $z \\geq T_h v$ ($T_h$ - lookahead time)\n",
    "\n",
    "$\\nabla h(x) = \\begin{bmatrix} 0 \\\\ -T_h \\\\1 \\end{bmatrix}$\n",
    "\n",
    "$L_f h(x) = (F_r(v) - u)\\frac{T_h}{m} + (v_0 - v)$, $L_g h(x) = \\frac{-T_h}{m}$\n",
    "\n",
    "$\\dot h(x) + \\gamma h(x) = (F_r(v) - u)\\frac{T_h}{m} + (v_0 - v) +\\gamma \\frac{-T_h}{m}\\geq 0$\n",
    "\n"
   ]
  },
  {
   "cell_type": "markdown",
   "metadata": {},
   "source": [
    "$\\dot h(x) + \\gamma h(x) = T_h c_dg + v_0 + \\gamma z - (1+ T_h \\gamma)v$\n"
   ]
  },
  {
   "cell_type": "markdown",
   "metadata": {},
   "source": [
    "When the value of of v is big compared to the positive terms, the terms might not be satisfied.\n",
    "To avoid it, we modify a CBF to include the term regarding a minimum braking distance required to decelerate from $v$ to $v_0$:\n",
    "\n",
    "$h(x) = z - T_h v - \\frac{1}{2}\\frac{(v-v_0)^2}{c_d g}$\n",
    "\n",
    "Then we get $\\dot h(x) = \\frac{1}{m}(T_h + \\frac{v-v_0}{c_d g})(F_r(v) - u) + (v_0 - v)$\n",
    "\n",
    "Under maximum deceleration ($u = -c_dmg$): $\\dot h(x) = \\frac{1}{m}T_hF_r(v) + T_hc_dg \\geq 0$\n",
    "\n",
    "Therefore, the constraint is always feasible at any state, so $h(x)$ is a valid CBF.\n"
   ]
  },
  {
   "cell_type": "code",
   "execution_count": 1,
   "metadata": {},
   "outputs": [],
   "source": [
    "# !pip install cvxpy mediapy numpy casadi robot_descriptions darli"
   ]
  },
  {
   "cell_type": "code",
   "execution_count": 2,
   "metadata": {},
   "outputs": [],
   "source": [
    "# !pip install mujoco"
   ]
  },
  {
   "cell_type": "code",
   "execution_count": 3,
   "metadata": {},
   "outputs": [
    {
     "name": "stdout",
     "output_type": "stream",
     "text": [
      "env: MUJOCO_GL=egl\n"
     ]
    }
   ],
   "source": [
    "import mujoco\n",
    "import cvxpy as cp\n",
    "import mediapy as media\n",
    "import numpy as np\n",
    "import casadi as cs\n",
    "\n",
    "from robot_descriptions.loaders.mujoco import load_robot_description\n",
    "# from darli.robots import manipulatorP\n",
    "# from darli.modeling import Robot\n",
    "# from darli.backend import PinocchioBackend\n",
    "\n",
    "%env MUJOCO_GL=egl"
   ]
  },
  {
   "cell_type": "code",
   "execution_count": 28,
   "metadata": {},
   "outputs": [],
   "source": [
    "q = cp.Parameter((3), \"q\")\n",
    "q_dot = cp.Parameter((3), \"q_dot\")\n",
    "\n",
    "F_r = cp.Parameter(name =\"F_r\", complex=False)\n",
    "T_h = cp.Parameter(name=\"T_h\", complex=False)\n",
    "# m = cp.()\n",
    "\n",
    "v_0 = cp.Parameter(name= \"v_0\", complex=False)\n",
    "v_d = cp.Parameter(name=\"v_d\", complex=False)\n",
    "\n",
    "# v = cp.Variable(name= \"v\", complex=False)\n",
    "# p = cp.Variable(name=\"p\", complex=False)\n",
    "# z = cp.Variable(name= \"z\", complex=False)\n",
    "\n",
    "# v, p, z = q\n",
    "\n",
    "# v_dot = cp.Variable()\n",
    "u = cp.Variable((3), \"u\")\n",
    "\n",
    "c_d = 0.3\n",
    "m = 10\n",
    "\n",
    "g = 9.8\n",
    "\n",
    "u_min = cp.Parameter((3), \"u_min\")\n",
    "u_max = cp.Parameter((3), \"u_max\")"
   ]
  },
  {
   "cell_type": "code",
   "execution_count": 29,
   "metadata": {},
   "outputs": [],
   "source": [
    "des_v = 1\n",
    "\n",
    "A = cp.Parameter((3, 3), \"A\")\n",
    "\n",
    "B = np.array([0, 1/m, 0])"
   ]
  },
  {
   "cell_type": "code",
   "execution_count": 30,
   "metadata": {},
   "outputs": [],
   "source": [
    "def rolling_resistance(v, fs=[1, 1, 1]):\n",
    "    return fs[0] + fs[1]*v + fs[2]*v**2\n",
    "\n",
    "def lead_vehicle_velocity(t):\n",
    "    return des_v * np.sin(0.1 * t)"
   ]
  },
  {
   "cell_type": "code",
   "execution_count": 31,
   "metadata": {},
   "outputs": [],
   "source": [
    "cbf = q[2] - T_h*q[1] - cp.square(q[1] - v_0)/(2* c_d * g)\n",
    "# cbf = z - T_h*v - cp.square(v - v_0)/(2* c_d * g)\n",
    "clf = cp.square(q[1] - v_d)\n",
    "# clf = cp.square(v - v_d)\n",
    "cost= cp.sum_squares(q[2])# + cp.sum_squares(u)\n",
    "# A@ q_dot.T==B@ u.T\n",
    "# cp.multiply(A, q_dot)==cp.multiply(B, u)\n",
    "\n",
    "constraints = [cbf>=0, clf >=0, u_min <= u, u <= u_max, A@ q_dot==B@ u]\n",
    "#v_dot*m + F_r ==u] #, v_var <= v_max ]"
   ]
  },
  {
   "cell_type": "code",
   "execution_count": 32,
   "metadata": {},
   "outputs": [
    {
     "name": "stdout",
     "output_type": "stream",
     "text": [
      "True\n",
      "False\n"
     ]
    }
   ],
   "source": [
    "objective = cp.Minimize(cost)\n",
    "problem = cp.Problem(objective, constraints)\n",
    "print(objective.is_dcp(dpp=True))\n",
    "print(problem.is_dcp(dpp=True))"
   ]
  },
  {
   "cell_type": "code",
   "execution_count": 34,
   "metadata": {},
   "outputs": [
    {
     "data": {
      "text/plain": [
       "[None]"
      ]
     },
     "execution_count": 34,
     "metadata": {},
     "output_type": "execute_result"
    }
   ],
   "source": [
    "qpos = np.zeros((3))\n",
    "qvel = np.ones((3))\n",
    "dt = 1\n",
    "ctrl = []\n",
    "# F_r.value = 1\n",
    "q_dot.value = qvel\n",
    "q.value = qpos\n",
    "\n",
    "# v.value = qpos[1]\n",
    "# z.value = qpos[2]\n",
    "\n",
    "F_r.value = rolling_resistance(0)\n",
    "v_0.value = lead_vehicle_velocity(1)\n",
    "T_h.value = dt\n",
    "v_d.value = des_v\n",
    "\n",
    "u_min.value = np.array([-m*c_d*g]*3)\n",
    "u_max.value = np.array([m*c_d*g]*3)\n",
    "\n",
    "A.value =np.array([\n",
    "    [q.value[1], 0, 0],\n",
    "    [0, - F_r.value/m, 0],\n",
    "    [0, 0, v_0.value - q.value[1]]])\n",
    "\n",
    "# p.value = qpos[0] + qvel[1]*dt\n",
    "# v.value = qpos[1] + (u - F_r)/m\n",
    "# z.value = qpos[2] + (v_0 - qvel[1])*dt\n",
    "\n",
    "g = 9.8\n",
    "# u_min.value = -m*c_d*g\n",
    "# u_max.value = m*c_d*g\n",
    "problem.solve()\n",
    "ctrl.append(u.value)\n",
    "ctrl"
   ]
  },
  {
   "cell_type": "code",
   "execution_count": 10,
   "metadata": {},
   "outputs": [
    {
     "ename": "NameError",
     "evalue": "name 'model' is not defined",
     "output_type": "error",
     "traceback": [
      "\u001b[0;31m---------------------------------------------------------------------------\u001b[0m",
      "\u001b[0;31mNameError\u001b[0m                                 Traceback (most recent call last)",
      "Cell \u001b[0;32mIn[10], line 40\u001b[0m\n\u001b[1;32m     34\u001b[0m q, v \u001b[38;5;241m=\u001b[39m (\n\u001b[1;32m     35\u001b[0m     qpos,\n\u001b[1;32m     36\u001b[0m     qvel,\n\u001b[1;32m     37\u001b[0m )\n\u001b[1;32m     38\u001b[0m state \u001b[38;5;241m=\u001b[39m np\u001b[38;5;241m.\u001b[39mhstack((q, v))\n\u001b[0;32m---> 40\u001b[0m pos \u001b[38;5;241m=\u001b[39m \u001b[43mmodel\u001b[49m\u001b[38;5;241m.\u001b[39mbodies[\u001b[38;5;124m\"\u001b[39m\u001b[38;5;124mee\u001b[39m\u001b[38;5;124m\"\u001b[39m]\u001b[38;5;241m.\u001b[39mposition\n\u001b[1;32m     41\u001b[0m jac_curr \u001b[38;5;241m=\u001b[39m model\u001b[38;5;241m.\u001b[39mbodies[\u001b[38;5;124m\"\u001b[39m\u001b[38;5;124mee\u001b[39m\u001b[38;5;124m\"\u001b[39m]\u001b[38;5;241m.\u001b[39mjacobian\u001b[38;5;241m.\u001b[39mworld_aligned\n\u001b[1;32m     42\u001b[0m jac_dt_curr \u001b[38;5;241m=\u001b[39m model\u001b[38;5;241m.\u001b[39mbodies[\u001b[38;5;124m\"\u001b[39m\u001b[38;5;124mee\u001b[39m\u001b[38;5;124m\"\u001b[39m]\u001b[38;5;241m.\u001b[39mjacobian_dt\u001b[38;5;241m.\u001b[39mworld_aligned\n",
      "\u001b[0;31mNameError\u001b[0m: name 'model' is not defined"
     ]
    }
   ],
   "source": [
    "t_end = 10\n",
    "duration = t_end  # (seconds)\n",
    "framerate = 30  # used just for visualization\n",
    "\n",
    "# Simulate and display video.\n",
    "frames = []\n",
    "ts = []\n",
    "Kp, Kd = 100, 10\n",
    "circle_r = 0.1\n",
    "state_history = []\n",
    "control_history = []\n",
    "task_history = []\n",
    "error_history = []\n",
    "\n",
    "dt_control = 1e-2\n",
    "t_next = dt_control\n",
    "\n",
    "u_min_val = -4\n",
    "u_max_val = 4 \n",
    "\n",
    "v_dot_min_val = -10\n",
    "v_dot_max_val = 10\n",
    "\n",
    "v_max_val = 0.2\n",
    "\n",
    "# z_pos = model.bodies[\"ee\"].jacobian.world_aligned @ trajectory(0, circle_r)\n",
    "z_pos = 0\n",
    "traj_frequency = 0.1\n",
    "\n",
    "qpos = np.zeros(3)\n",
    "qvel = np.zeros(3)\n",
    "time = 0\n",
    "while time < duration:\n",
    "    q, v = (\n",
    "        qpos,\n",
    "        qvel,\n",
    "    )\n",
    "    state = np.hstack((q, v))\n",
    "    \n",
    "    pos = model.bodies[\"ee\"].position\n",
    "    jac_curr = model.bodies[\"ee\"].jacobian.world_aligned\n",
    "    jac_dt_curr = model.bodies[\"ee\"].jacobian_dt.world_aligned\n",
    "\n",
    "    M_curr = model.inertia(q)\n",
    "    h_curr = model.coriolis(q, v) + model.gravity(q)\n",
    "\n",
    "    traj_ddt_curr = trajectory_ddt(data.time, circle_r, traj_frequency)\n",
    "    traj_dt_curr = trajectory_dt(data.time, circle_r, traj_frequency)\n",
    "    traj_curr = trajectory(data.time, circle_r, np.array([0, 0.0, 0.2]), traj_frequency)\n",
    "    v_var.value = v\n",
    "    J_traj.value = jac_curr[:3]\n",
    "\n",
    "    b_traj.value = (\n",
    "        # (jac_dt_curr @ v)[:3]\n",
    "        # - traj_ddt_curr\n",
    "        + Kd * ((jac_curr @ v)[:3] - traj_dt_curr)\n",
    "        + Kp * (pos - traj_curr)\n",
    "    )\n",
    "\n",
    "    u_min.value = u_min_val\n",
    "    u_max.value = u_max_val\n",
    "\n",
    "    v_dot_min.value = v_dot_min_val\n",
    "    v_dot_max.value = v_dot_max_val\n",
    "\n",
    "    v_max.value = v_max_val\n",
    "    \n",
    "    M.value = np.array(M_curr)\n",
    "    h.value = np.array(h_curr)\n",
    "\n",
    "    B.value = np.eye(nu)\n",
    "\n",
    "    problem.solve()\n",
    "    problem.solution()\n",
    "    data.ctrl = np.array(u.value)  # .reshape(mj_model.nu, )\n",
    "    state_history.append(pos.copy())\n",
    "    task_history.append(traj_curr)\n",
    "    error_history.append(pos - traj_curr)\n",
    "    ts.append(data.time)\n",
    "    control_history.append(data.ctrl.copy())\n",
    "\n",
    "    mujoco.mj_step(mj_model, data)\n",
    "    \n",
    "    time+=dt_control"
   ]
  },
  {
   "cell_type": "markdown",
   "metadata": {},
   "source": [
    "# System\n",
    "Affine system:\n",
    "\n",
    "$A\\dot q + b = Bu$"
   ]
  },
  {
   "cell_type": "code",
   "execution_count": 35,
   "metadata": {},
   "outputs": [],
   "source": [
    "A = cp.Parameter((2,2), \"A\")\n",
    "b = cp.Parameter((2), \"b\")\n",
    "B = cp.Parameter((2), \"B\")\n",
    "\n",
    "def get_a():\n",
    "    return np.array([[0, 1],\n",
    "                     [2, -1]])\n",
    "def get_b():\n",
    "    return np.array([[0],\n",
    "                     [1]])"
   ]
  },
  {
   "cell_type": "code",
   "execution_count": null,
   "metadata": {},
   "outputs": [],
   "source": [
    "u = cp.Variable((2),\"u\")\n",
    "q = cp.Variable((2), \"q\")\n",
    "v = cp.Variable((2), \"v\")\n",
    "v_dot = cp.Variable((2), \"v_dot\")\n",
    "b_traj = cp.Parameter((1), \"b_traj\")\n",
    "u_min = cp.Parameter((2), \"u_min\")\n",
    "u_max = cp.Parameter((2), \"u_max\")\n",
    "\n",
    "cost= cp.sum_squares((v_dot) + b_traj)\n",
    "# barrier = cp.max(v_max - v_var)\n",
    "constraints = [u_min <= u, u <= u_max, A@v + b == B@u]"
   ]
  },
  {
   "cell_type": "code",
   "execution_count": null,
   "metadata": {},
   "outputs": [],
   "source": []
  }
 ],
 "metadata": {
  "kernelspec": {
   "display_name": "barriers",
   "language": "python",
   "name": "python3"
  },
  "language_info": {
   "codemirror_mode": {
    "name": "ipython",
    "version": 3
   },
   "file_extension": ".py",
   "mimetype": "text/x-python",
   "name": "python",
   "nbconvert_exporter": "python",
   "pygments_lexer": "ipython3",
   "version": "3.10.13"
  }
 },
 "nbformat": 4,
 "nbformat_minor": 2
}
