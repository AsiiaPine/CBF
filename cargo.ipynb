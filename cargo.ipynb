{
 "cells": [
  {
   "cell_type": "markdown",
   "metadata": {},
   "source": [
    "# Problem formulation\n",
    "\n",
    "![cargo](figs/cargo.png)\n",
    "# State\n",
    "$x = \\begin{bmatrix} p & v & z \\end{bmatrix}^T \\in \\R^3$\n",
    "# Control input \n",
    "$u \\in \\R^1$\n",
    "# Dynamics\n",
    "$\\dot x  = \\underbrace{\\begin{bmatrix} v\\\\ -\\frac{F_r(v)}{m} \\\\ v_0 - v\\end{bmatrix}}_{f(x)} + \\underbrace{\\begin{bmatrix} 0\\\\ \\frac{1}{m} \\\\ 0\\end{bmatrix} u}_{g(x)}$\n",
    "# Input constraints:\n",
    "$$u_{min}<u<u_{max}$$\n",
    "$$v_{min}<v<v_{max}$$\n",
    "\n",
    "# Stability objective:\n",
    "$$v \\rightarrow v_d$$\n",
    "\n",
    "# Safety objective:\n",
    "$z \\geq T_h v$ ($T_h$ - lookahead time)\n"
   ]
  },
  {
   "cell_type": "markdown",
   "metadata": {},
   "source": [
    "\n",
    "# System constraints \n"
   ]
  },
  {
   "cell_type": "markdown",
   "metadata": {},
   "source": [
    "The problem can be solved via CLF and CBF, such that CLF will tend the system to equilibrium $v \\rightarrow v_d$ and CBF to $z \\geq T_h v$.\n",
    "\n",
    "# Design of CLF\n",
    "1. The Lyapunov function $V(s) = 0$ when $s=s_d$ and $V(s) > 0 \\forall s \\in \\R^n \\ {s_d}$.\n",
    "2. $\\Omega_c := \\{ s \\in \\R^n : V(x) \\leq c\\}$, a sublevel set is bounded (sublevel since QP problem find an elliptical set.)\n",
    "3. $\\dot V(x, u) < -\\gamma V(x)$\n",
    "   \n",
    "To reach the condition, \n",
    "Then $V(x) = (v - v_d)^2 $\n",
    "\n",
    "$\\nabla V(x) = \\begin{bmatrix} 0 \\\\ 2(v-v_d) \\\\ 0 \\end{bmatrix}$\n",
    "\n",
    "$L_f V(x) = -\\frac{2 F_r(v)}{m}(v - v_d)$, $L_g V(x) = \\frac{2}{m}(v-v_d)$\n",
    "\n",
    "$\\dot V(x) + \\lambda V(x) = L_f V(x) + L_g V(x) u + \\lambda V(x) = (v - v_d)\\{ \\frac{2}{m}(u - F_r) + \\lambda (v - v_d)\\}\\leq0$"
   ]
  },
  {
   "cell_type": "markdown",
   "metadata": {},
   "source": [
    "The value of rolling resistance $F_r$ is very small.\n",
    "\n",
    "- If $v < v_d$ and $u >> F_r$, the term $\\{ \\frac{2}{m}(u - F_r) + \\lambda (v - v_d)\\}$ [1] will be positive and the constraints will be satisfied.\n",
    "- If $v > v_d$, the term [1] will be negative if the cargo will decelerate enough $u < F_r$. \n",
    "\n",
    "Therefore the function V in a valid CLF (if $\\lambda$ is small enough)."
   ]
  },
  {
   "cell_type": "markdown",
   "metadata": {},
   "source": [
    "# Design CBF\n",
    "Safety objective: $z \\geq T_h v$ ($T_h$ - lookahead time)\n",
    "\n",
    "$\\nabla h(x) = \\begin{bmatrix} 0 \\\\ -T_h \\\\1 \\end{bmatrix}$\n",
    "\n",
    "$L_f h(x) = (F_r(v) - u)\\frac{T_h}{m} + (v_0 - v)$, $L_g h(x) = \\frac{-T_h}{m}$\n",
    "\n",
    "$\\dot h(x) + \\gamma h(x) = (F_r(v) - u)\\frac{T_h}{m} + (v_0 - v) +\\gamma \\frac{-T_h}{m}\\geq 0$\n",
    "\n"
   ]
  },
  {
   "cell_type": "markdown",
   "metadata": {},
   "source": [
    "$\\dot h(x) + \\gamma h(x) = T_h c_dg + v_0 + \\gamma z - (1+ T_h \\gamma)v$\n"
   ]
  },
  {
   "cell_type": "markdown",
   "metadata": {},
   "source": [
    "When the value of of v is big compared to the positive terms, the terms might not be satisfied.\n",
    "To avoid it, we modify a CBF to include the term regarding a minimum braking distance required to decelerate from $v$ to $v_0$:\n",
    "\n",
    "$h(x) = z - T_h v - \\frac{1}{2}\\frac{(v-v_0)^2}{c_d g}$\n",
    "\n",
    "Then we get $\\dot h(x) = \\frac{1}{m}(T_h + \\frac{v-v_0}{c_d g})(F_r(v) - u) + (v_0 - v)$\n",
    "\n",
    "Under maximum deceleration ($u = -c_dmg$): $\\dot h(x) = \\frac{1}{m}T_hF_r(v) + T_hc_dg \\geq 0$\n",
    "\n",
    "Therefore, the constraint is always feasible at any state, so $h(x)$ is a valid CBF.\n"
   ]
  },
  {
   "cell_type": "code",
   "execution_count": 1,
   "metadata": {},
   "outputs": [
    {
     "name": "stdout",
     "output_type": "stream",
     "text": [
      "env: MUJOCO_GL=egl\n"
     ]
    }
   ],
   "source": [
    "import cvxpy as cp\n",
    "import mujoco\n",
    "import mediapy as media\n",
    "import numpy as np\n",
    "import casadi as cs\n",
    "\n",
    "from robot_descriptions.loaders.mujoco import load_robot_description\n",
    "from darli.robots import manipulator\n",
    "from darli.modeling import Robot\n",
    "from darli.backend import PinocchioBackend\n",
    "\n",
    "%env MUJOCO_GL=egl"
   ]
  },
  {
   "cell_type": "code",
   "execution_count": 23,
   "metadata": {},
   "outputs": [],
   "source": [
    "F_r = cp.Variable()\n",
    "T_h = cp.Variable()\n",
    "# m = cp.()\n",
    "\n",
    "v_0 = cp.Variable()\n",
    "v_d = cp.Variable()\n",
    "\n",
    "v = cp.Parameter(1, \"v\")\n",
    "p = cp.Parameter(1, \"p\")\n",
    "z = cp.Parameter(1, \"z\")\n",
    "\n",
    "v_dot = cp.Parameter(1, \"v_dot\")\n",
    "u = cp.Parameter(3, \"u\")\n",
    "\n",
    "c_d = 0.3\n",
    "m = 10\n",
    "\n",
    "g = 9.8\n",
    "u_min = np.array([-m*c_d*g]*3)\n",
    "u_max = np.array([m*c_d*g]*3)\n"
   ]
  },
  {
   "cell_type": "code",
   "execution_count": 24,
   "metadata": {},
   "outputs": [],
   "source": [
    "\n",
    "des_v = 10\n",
    "\n",
    "A = cp.Parameter(3, \"A\")\n",
    "B = cp.Parameter(3, \"B\")\n",
    "\n",
    "q = cp.Parameter(3, \"q\")\n",
    "q_dot = cp.Parameter(3, \"q_dot\")"
   ]
  },
  {
   "cell_type": "code",
   "execution_count": 25,
   "metadata": {},
   "outputs": [],
   "source": [
    "def rolling_resistance(v, fs=[1, 1, 1]):\n",
    "    return fs[0] + fs[1]*v + fs[2]*v**2\n",
    "\n",
    "def lead_vehicle_velocity(t):\n",
    "    return des_v * np.sin(0.1 * t)"
   ]
  },
  {
   "cell_type": "code",
   "execution_count": 26,
   "metadata": {},
   "outputs": [],
   "source": [
    "cbf = z - T_h*v - (v - v_0)**2/(2* c_d * g)\n",
    "clf = (v - v_d)**2\n",
    "cost= cp.sum_squares(p) + cp.sum_squares(u)\n",
    "\n",
    "constraints = [cbf>=0, clf>=0, u_min <= u, u <= u_max, cp.multiply(A, q_dot)==cp.multiply(B, u)]\n",
    "#v_dot*m + F_r ==u] #, v_var <= v_max ]"
   ]
  },
  {
   "cell_type": "code",
   "execution_count": 27,
   "metadata": {},
   "outputs": [],
   "source": [
    "objective = cp.Minimize(cost)\n",
    "problem = cp.Problem(objective, constraints)"
   ]
  },
  {
   "cell_type": "code",
   "execution_count": 30,
   "metadata": {},
   "outputs": [
    {
     "ename": "ValueError",
     "evalue": "Invalid dimensions () for Parameter value.",
     "output_type": "error",
     "traceback": [
      "\u001b[0;31m---------------------------------------------------------------------------\u001b[0m",
      "\u001b[0;31mValueError\u001b[0m                                Traceback (most recent call last)",
      "Cell \u001b[0;32mIn[30], line 10\u001b[0m\n\u001b[1;32m      8\u001b[0m T_h\u001b[38;5;241m.\u001b[39mvalue \u001b[38;5;241m=\u001b[39m dt\n\u001b[1;32m      9\u001b[0m v_d\u001b[38;5;241m.\u001b[39mvalue \u001b[38;5;241m=\u001b[39m \u001b[38;5;241m10\u001b[39m\n\u001b[0;32m---> 10\u001b[0m \u001b[43mz\u001b[49m\u001b[38;5;241;43m.\u001b[39;49m\u001b[43mvalue\u001b[49m \u001b[38;5;241m=\u001b[39m (v_0\u001b[38;5;241m.\u001b[39mvalue \u001b[38;5;241m-\u001b[39m qvel[\u001b[38;5;241m1\u001b[39m])\u001b[38;5;241m*\u001b[39mdt\n\u001b[1;32m     11\u001b[0m p\u001b[38;5;241m.\u001b[39mvalue \u001b[38;5;241m=\u001b[39m qpos\n\u001b[1;32m     12\u001b[0m v\u001b[38;5;241m.\u001b[39mvalue \u001b[38;5;241m=\u001b[39m qvel\n",
      "File \u001b[0;32m~/mambaforge/envs/barriers/lib/python3.10/site-packages/cvxpy/expressions/constants/parameter.py:87\u001b[0m, in \u001b[0;36mParameter.value\u001b[0;34m(self, val)\u001b[0m\n\u001b[1;32m     85\u001b[0m \u001b[38;5;129m@value\u001b[39m\u001b[38;5;241m.\u001b[39msetter\n\u001b[1;32m     86\u001b[0m \u001b[38;5;28;01mdef\u001b[39;00m \u001b[38;5;21mvalue\u001b[39m(\u001b[38;5;28mself\u001b[39m, val):\n\u001b[0;32m---> 87\u001b[0m     \u001b[38;5;28mself\u001b[39m\u001b[38;5;241m.\u001b[39m_value \u001b[38;5;241m=\u001b[39m \u001b[38;5;28;43mself\u001b[39;49m\u001b[38;5;241;43m.\u001b[39;49m\u001b[43m_validate_value\u001b[49m\u001b[43m(\u001b[49m\u001b[43mval\u001b[49m\u001b[43m)\u001b[49m\n",
      "File \u001b[0;32m~/mambaforge/envs/barriers/lib/python3.10/site-packages/cvxpy/expressions/leaf.py:394\u001b[0m, in \u001b[0;36mLeaf._validate_value\u001b[0;34m(self, val)\u001b[0m\n\u001b[1;32m    392\u001b[0m val \u001b[38;5;241m=\u001b[39m intf\u001b[38;5;241m.\u001b[39mconvert(val)\n\u001b[1;32m    393\u001b[0m \u001b[38;5;28;01mif\u001b[39;00m intf\u001b[38;5;241m.\u001b[39mshape(val) \u001b[38;5;241m!=\u001b[39m \u001b[38;5;28mself\u001b[39m\u001b[38;5;241m.\u001b[39mshape:\n\u001b[0;32m--> 394\u001b[0m     \u001b[38;5;28;01mraise\u001b[39;00m \u001b[38;5;167;01mValueError\u001b[39;00m(\n\u001b[1;32m    395\u001b[0m         \u001b[38;5;124m\"\u001b[39m\u001b[38;5;124mInvalid dimensions \u001b[39m\u001b[38;5;132;01m%s\u001b[39;00m\u001b[38;5;124m for \u001b[39m\u001b[38;5;132;01m%s\u001b[39;00m\u001b[38;5;124m value.\u001b[39m\u001b[38;5;124m\"\u001b[39m \u001b[38;5;241m%\u001b[39m\n\u001b[1;32m    396\u001b[0m         (intf\u001b[38;5;241m.\u001b[39mshape(val), \u001b[38;5;28mself\u001b[39m\u001b[38;5;241m.\u001b[39m\u001b[38;5;18m__class__\u001b[39m\u001b[38;5;241m.\u001b[39m\u001b[38;5;18m__name__\u001b[39m)\n\u001b[1;32m    397\u001b[0m     )\n\u001b[1;32m    398\u001b[0m projection \u001b[38;5;241m=\u001b[39m \u001b[38;5;28mself\u001b[39m\u001b[38;5;241m.\u001b[39mproject(val)\n\u001b[1;32m    399\u001b[0m \u001b[38;5;66;03m# ^ might be a numpy array, or sparse scipy matrix.\u001b[39;00m\n",
      "\u001b[0;31mValueError\u001b[0m: Invalid dimensions () for Parameter value."
     ]
    }
   ],
   "source": [
    "qpos = np.zeros(3)\n",
    "qvel = np.zeros(3)\n",
    "dt = 0.1\n",
    "# F_r.value = 1\n",
    "F_r.value = rolling_resistance(0)\n",
    "# m.value = 10\n",
    "v_0.value = lead_vehicle_velocity(1)\n",
    "T_h.value = dt\n",
    "v_d.value = 10\n",
    "z.value = (v_0.value - qvel[1])*dt\n",
    "p.value = qpos\n",
    "v.value = qvel\n",
    "c_d.value = 0.3\n",
    "\n",
    "g = 9.8\n",
    "# u_min.value = -m*c_d*g\n",
    "# u_max.value = m*c_d*g\n",
    "\n",
    "problem.solve()\n",
    "problem.solution()"
   ]
  },
  {
   "cell_type": "code",
   "execution_count": null,
   "metadata": {},
   "outputs": [],
   "source": [
    "t_end = 10\n",
    "duration = t_end  # (seconds)\n",
    "framerate = 30  # used just for visualization\n",
    "\n",
    "# Simulate and display video.\n",
    "frames = []\n",
    "ts = []\n",
    "Kp, Kd = 100, 10\n",
    "circle_r = 0.1\n",
    "state_history = []\n",
    "control_history = []\n",
    "task_history = []\n",
    "error_history = []\n",
    "\n",
    "dt_control = 1e-2\n",
    "t_next = dt_control\n",
    "\n",
    "u_min_val = -4\n",
    "u_max_val = 4 \n",
    "\n",
    "v_dot_min_val = -10\n",
    "v_dot_max_val = 10\n",
    "\n",
    "v_max_val = 0.2\n",
    "\n",
    "# z_pos = model.bodies[\"ee\"].jacobian.world_aligned @ trajectory(0, circle_r)\n",
    "z_pos = 0\n",
    "traj_frequency = 0.1\n",
    "\n",
    "qpos = np.zeros(3)\n",
    "qvel = np.zeros(3)\n",
    "time = 0\n",
    "while time < duration:\n",
    "    q, v = (\n",
    "        qpos,\n",
    "        qvel,\n",
    "    )\n",
    "    state = np.hstack((q, v))\n",
    "    \n",
    "    pos = model.bodies[\"ee\"].position\n",
    "    jac_curr = model.bodies[\"ee\"].jacobian.world_aligned\n",
    "    jac_dt_curr = model.bodies[\"ee\"].jacobian_dt.world_aligned\n",
    "\n",
    "    M_curr = model.inertia(q)\n",
    "    h_curr = model.coriolis(q, v) + model.gravity(q)\n",
    "\n",
    "    traj_ddt_curr = trajectory_ddt(data.time, circle_r, traj_frequency)\n",
    "    traj_dt_curr = trajectory_dt(data.time, circle_r, traj_frequency)\n",
    "    traj_curr = trajectory(data.time, circle_r, np.array([0, 0.0, 0.2]), traj_frequency)\n",
    "    v_var.value = v\n",
    "    J_traj.value = jac_curr[:3]\n",
    "\n",
    "    b_traj.value = (\n",
    "        # (jac_dt_curr @ v)[:3]\n",
    "        # - traj_ddt_curr\n",
    "        + Kd * ((jac_curr @ v)[:3] - traj_dt_curr)\n",
    "        + Kp * (pos - traj_curr)\n",
    "    )\n",
    "\n",
    "    u_min.value = u_min_val\n",
    "    u_max.value = u_max_val\n",
    "\n",
    "    v_dot_min.value = v_dot_min_val\n",
    "    v_dot_max.value = v_dot_max_val\n",
    "\n",
    "    v_max.value = v_max_val\n",
    "    \n",
    "    M.value = np.array(M_curr)\n",
    "    h.value = np.array(h_curr)\n",
    "\n",
    "    B.value = np.eye(nu)\n",
    "\n",
    "    problem.solve()\n",
    "    problem.solution()\n",
    "    data.ctrl = np.array(u.value)  # .reshape(mj_model.nu, )\n",
    "    state_history.append(pos.copy())\n",
    "    task_history.append(traj_curr)\n",
    "    error_history.append(pos - traj_curr)\n",
    "    ts.append(data.time)\n",
    "    control_history.append(data.ctrl.copy())\n",
    "\n",
    "    mujoco.mj_step(mj_model, data)\n",
    "    \n",
    "    time+=dt_control"
   ]
  }
 ],
 "metadata": {
  "kernelspec": {
   "display_name": "barriers",
   "language": "python",
   "name": "python3"
  },
  "language_info": {
   "codemirror_mode": {
    "name": "ipython",
    "version": 3
   },
   "file_extension": ".py",
   "mimetype": "text/x-python",
   "name": "python",
   "nbconvert_exporter": "python",
   "pygments_lexer": "ipython3",
   "version": "3.10.13"
  }
 },
 "nbformat": 4,
 "nbformat_minor": 2
}
